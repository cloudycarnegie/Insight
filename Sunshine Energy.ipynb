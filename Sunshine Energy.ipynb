{
 "cells": [
  {
   "cell_type": "code",
   "execution_count": 1,
   "metadata": {},
   "outputs": [],
   "source": [
    "import numpy as np\n",
    "import matplotlib \n",
    "%matplotlib inline\n",
    "import matplotlib.pyplot as plt\n",
    "import matplotlib.cm as cm\n",
    "import pandas as pd\n",
    "from sklearn.metrics.regression import mean_squared_error\n",
    "from sklearn.ensemble import RandomForestRegressor\n",
    "from sklearn.model_selection import train_test_split\n",
    "import cartopy.crs as ccrs\n",
    "import cartopy.feature as cfeature\n",
    "import time\n",
    "from sklearn import metrics\n",
    "from scipy.interpolate import interp2d\n",
    "import mplleaflet"
   ]
  },
  {
   "cell_type": "code",
   "execution_count": null,
   "metadata": {},
   "outputs": [],
   "source": [
    "def calc_dist(lat1, lon1, lat2, lon2):\n",
    "    radius = 6371 # km\n",
    "\n",
    "    dlat = np.radians(lat2-lat1)\n",
    "    dlon = np.radians(lon2-lon1)\n",
    "    a = np.sin(dlat/2) * np.sin(dlat/2) + np.cos(np.radians(lat1)) \\\n",
    "        * np.cos(math.radians(lat2)) * np.sin(dlon/2) * np.sin(dlon/2)\n",
    "    c = 2 * np.arctan2(np.sqrt(a), np.sqrt(1-a))\n",
    "    d = radius * c\n",
    "    return d"
   ]
  },
  {
   "cell_type": "code",
   "execution_count": 2,
   "metadata": {},
   "outputs": [
    {
     "data": {
      "text/html": [
       "<div>\n",
       "<style scoped>\n",
       "    .dataframe tbody tr th:only-of-type {\n",
       "        vertical-align: middle;\n",
       "    }\n",
       "\n",
       "    .dataframe tbody tr th {\n",
       "        vertical-align: top;\n",
       "    }\n",
       "\n",
       "    .dataframe thead th {\n",
       "        text-align: right;\n",
       "    }\n",
       "</style>\n",
       "<table border=\"1\" class=\"dataframe\">\n",
       "  <thead>\n",
       "    <tr style=\"text-align: right;\">\n",
       "      <th></th>\n",
       "      <th>Latitude</th>\n",
       "      <th>Longitude</th>\n",
       "      <th>city distances</th>\n",
       "      <th>elevation</th>\n",
       "      <th>Num solarfarms</th>\n",
       "      <th>DNR</th>\n",
       "    </tr>\n",
       "  </thead>\n",
       "  <tbody>\n",
       "    <tr>\n",
       "      <th>0</th>\n",
       "      <td>31.75</td>\n",
       "      <td>-113.750000</td>\n",
       "      <td>246.198592</td>\n",
       "      <td>50.972839</td>\n",
       "      <td>0</td>\n",
       "      <td>6.03</td>\n",
       "    </tr>\n",
       "    <tr>\n",
       "      <th>1</th>\n",
       "      <td>31.75</td>\n",
       "      <td>-113.634615</td>\n",
       "      <td>239.573742</td>\n",
       "      <td>99.589859</td>\n",
       "      <td>0</td>\n",
       "      <td>6.03</td>\n",
       "    </tr>\n",
       "    <tr>\n",
       "      <th>2</th>\n",
       "      <td>31.75</td>\n",
       "      <td>-113.519231</td>\n",
       "      <td>233.261529</td>\n",
       "      <td>617.773071</td>\n",
       "      <td>1</td>\n",
       "      <td>6.03</td>\n",
       "    </tr>\n",
       "    <tr>\n",
       "      <th>3</th>\n",
       "      <td>31.75</td>\n",
       "      <td>-113.403846</td>\n",
       "      <td>227.288010</td>\n",
       "      <td>233.403931</td>\n",
       "      <td>0</td>\n",
       "      <td>6.03</td>\n",
       "    </tr>\n",
       "    <tr>\n",
       "      <th>4</th>\n",
       "      <td>31.75</td>\n",
       "      <td>-113.288461</td>\n",
       "      <td>221.680572</td>\n",
       "      <td>156.278107</td>\n",
       "      <td>0</td>\n",
       "      <td>6.03</td>\n",
       "    </tr>\n",
       "  </tbody>\n",
       "</table>\n",
       "</div>"
      ],
      "text/plain": [
       "   Latitude   Longitude  city distances   elevation  Num solarfarms   DNR\n",
       "0     31.75 -113.750000      246.198592   50.972839               0  6.03\n",
       "1     31.75 -113.634615      239.573742   99.589859               0  6.03\n",
       "2     31.75 -113.519231      233.261529  617.773071               1  6.03\n",
       "3     31.75 -113.403846      227.288010  233.403931               0  6.03\n",
       "4     31.75 -113.288461      221.680572  156.278107               0  6.03"
      ]
     },
     "execution_count": 2,
     "metadata": {},
     "output_type": "execute_result"
    }
   ],
   "source": [
    "df_fine_complete = pd.read_csv('C:/Users/cc831/OneDrive - University Of Cambridge/Documents/admin/Insightapplication/Project/Arizona/completed_fine_df2.csv')\n",
    "df_fine_complete.head()"
   ]
  },
  {
   "cell_type": "code",
   "execution_count": 3,
   "metadata": {},
   "outputs": [],
   "source": [
    "forest = RandomForestRegressor(oob_score=True)\n",
    "X = df_fine_complete[['Longitude','Latitude', 'DNR', 'elevation', 'city distances']]\n",
    "y = df_fine_complete[['Longitude','Latitude', 'Num solarfarms']] #taking a random sample of 100 locations to match size of DNR data"
   ]
  },
  {
   "cell_type": "code",
   "execution_count": 4,
   "metadata": {},
   "outputs": [],
   "source": [
    "# Split dataset into training set and test set\n",
    "X_train, X_test, y_train, y_test = train_test_split(X, y, test_size=0.25) \n",
    "# 75% training and 25% test"
   ]
  },
  {
   "cell_type": "code",
   "execution_count": 5,
   "metadata": {},
   "outputs": [
    {
     "name": "stderr",
     "output_type": "stream",
     "text": [
      "C:\\Users\\cc831\\Anaconda2\\lib\\site-packages\\sklearn\\ensemble\\forest.py:724: UserWarning: Some inputs do not have OOB scores. This probably means too few trees were used to compute any reliable oob estimates.\n",
      "  warn(\"Some inputs do not have OOB scores. \"\n"
     ]
    },
    {
     "data": {
      "text/plain": [
       "RandomForestRegressor(bootstrap=True, criterion='mse', max_depth=None,\n",
       "           max_features='auto', max_leaf_nodes=None,\n",
       "           min_impurity_decrease=0.0, min_impurity_split=None,\n",
       "           min_samples_leaf=1, min_samples_split=2,\n",
       "           min_weight_fraction_leaf=0.0, n_estimators=10, n_jobs=1,\n",
       "           oob_score=True, random_state=None, verbose=0, warm_start=False)"
      ]
     },
     "execution_count": 5,
     "metadata": {},
     "output_type": "execute_result"
    }
   ],
   "source": [
    "# Classifier on all training data!\n",
    "forest.fit(X_train,y_train)"
   ]
  },
  {
   "cell_type": "code",
   "execution_count": 6,
   "metadata": {},
   "outputs": [],
   "source": [
    "y_pred = forest.predict(X_test)"
   ]
  },
  {
   "cell_type": "code",
   "execution_count": 7,
   "metadata": {},
   "outputs": [
    {
     "data": {
      "text/plain": [
       "1.1278044007077144"
      ]
     },
     "execution_count": 7,
     "metadata": {},
     "output_type": "execute_result"
    }
   ],
   "source": [
    "mse = metrics.mean_squared_error(y_test, y_pred)\n",
    "mse"
   ]
  },
  {
   "cell_type": "code",
   "execution_count": 8,
   "metadata": {},
   "outputs": [
    {
     "data": {
      "text/plain": [
       "<matplotlib.text.Text at 0xce351d0>"
      ]
     },
     "execution_count": 8,
     "metadata": {},
     "output_type": "execute_result"
    },
    {
     "data": {
      "image/png": "[encoded data removed]",
      "text/plain": [
       "<matplotlib.figure.Figure at 0x5553470>"
      ]
     },
     "metadata": {},
     "output_type": "display_data"
    },
    {
     "data": {
      "image/png": "[encoded data removed]",
      "text/plain": [
       "<matplotlib.figure.Figure at 0xcdb3f98>"
      ]
     },
     "metadata": {},
     "output_type": "display_data"
    }
   ],
   "source": [
    "#Prediction\n",
    "fig4 = plt.figure()\n",
    "ax4 = fig4.add_subplot(1, 1, 1, projection=ccrs.PlateCarree())\n",
    "# plot_arizona(ax4)\n",
    "ax4.scatter(y_pred[:,0], y_pred[:,1], c=y_pred[:,2], alpha=1, marker='s', s=27,\n",
    "           cmap='Reds', edgecolor='None')\n",
    "ax4.set_title('Solar Farm Density (Prediction)')\n",
    "\n",
    "#Test\n",
    "fig5 = plt.figure()\n",
    "ax5 = fig5.add_subplot(1, 1, 1, projection=ccrs.PlateCarree())\n",
    "# plot_arizona(ax4)\n",
    "ax5.scatter(y_test['Longitude'], y_test['Latitude'], c=y_test['Num solarfarms'], alpha=1, marker='s', s=27,\n",
    "           cmap='Reds', edgecolor='None')\n",
    "ax5.set_title('Solar Farm Density (Test/current solar farms)')"
   ]
  },
  {
   "cell_type": "code",
   "execution_count": null,
   "metadata": {},
   "outputs": [],
   "source": []
  }
 ],
 "metadata": {
  "kernelspec": {
   "display_name": "insight1",
   "language": "python",
   "name": "insight1"
  },
  "language_info": {
   "codemirror_mode": {
    "name": "ipython",
    "version": 2
   },
   "file_extension": ".py",
   "mimetype": "text/x-python",
   "name": "python",
   "nbconvert_exporter": "python",
   "pygments_lexer": "ipython2",
   "version": "2.7.15"
  }
 },
 "nbformat": 4,
 "nbformat_minor": 2
}
